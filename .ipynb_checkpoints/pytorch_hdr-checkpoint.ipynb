{
 "cells": [
  {
   "cell_type": "markdown",
   "id": "6165f7b5-b53c-4f10-90da-e7cf8e5a16cb",
   "metadata": {},
   "source": [
    "## Importing necessary libraries"
   ]
  },
  {
   "cell_type": "code",
   "execution_count": 1,
   "id": "bd05d38f-3030-4f5a-a39e-fd1428871892",
   "metadata": {},
   "outputs": [],
   "source": [
    "import matplotlib\n",
    "import matplotlib.pyplot as plt\n",
    "import numpy as np\n",
    "import PIL\n",
    "from PIL import Image\n",
    "import io\n",
    "\n",
    "import torch\n",
    "import torchvision\n",
    "from torchvision import transforms, datasets\n",
    "\n",
    "import tkinter as tk\n",
    "from tkinter import ttk, colorchooser"
   ]
  },
  {
   "cell_type": "markdown",
   "id": "05fa5dbf-7bf1-48a9-a331-d1bc7cdcce6c",
   "metadata": {},
   "source": [
    "## Loading MNIST dataset for hand-drawn digits"
   ]
  },
  {
   "cell_type": "code",
   "execution_count": 2,
   "id": "012c31e1-eb90-40c0-b77d-0b007be01ff6",
   "metadata": {},
   "outputs": [
    {
     "name": "stderr",
     "output_type": "stream",
     "text": [
      "c:\\users\\jovan dmitrovic\\appdata\\local\\programs\\python\\python37\\lib\\site-packages\\torchvision\\datasets\\mnist.py:498: UserWarning: The given NumPy array is not writeable, and PyTorch does not support non-writeable tensors. This means you can write to the underlying (supposedly non-writeable) NumPy array using the tensor. You may want to copy the array to protect its data or make it writeable before converting it to a tensor. This type of warning will be suppressed for the rest of this program. (Triggered internally at  ..\\torch\\csrc\\utils\\tensor_numpy.cpp:180.)\n",
      "  return torch.from_numpy(parsed.astype(m[2], copy=False)).view(*s)\n"
     ]
    }
   ],
   "source": [
    "train = datasets.MNIST('', train=True, download=True,transform=transforms.Compose([transforms.ToTensor()]))\n",
    "train_set = torch.utils.data.DataLoader(train, batch_size=10, shuffle=True)\n",
    "\n",
    "test = datasets.MNIST('', train=False, download=True,transform=transforms.Compose([transforms.ToTensor()]))\n",
    "test_set = torch.utils.data.DataLoader(test, batch_size=10, shuffle=False)"
   ]
  },
  {
   "cell_type": "markdown",
   "id": "d428e598-d146-4920-b4e7-3afafc8a2f76",
   "metadata": {},
   "source": [
    "## Implementation of Handwritten Digit Recognizer app"
   ]
  },
  {
   "cell_type": "code",
   "execution_count": 4,
   "id": "dd0a2d82-085f-40f4-a189-b25d4eed80e5",
   "metadata": {},
   "outputs": [
    {
     "name": "stdout",
     "output_type": "stream",
     "text": [
      "Here goes image pipeline to pretrained CNN, return resulted number and probability\n"
     ]
    }
   ],
   "source": [
    "# application of Handwritten Digit Recognizer\n",
    "# DISCLAIMER! Ghostscript must be installed and added to PATH\n",
    "class HandwrittenDigitRecognizer:\n",
    "    \n",
    "    # constructor\n",
    "    def __init__(self,master):\n",
    "        self.master = master\n",
    "        self.color_fg = 'black'\n",
    "        self.color_bg = 'white'\n",
    "        self.old_x = None\n",
    "        self.old_y = None\n",
    "        self.penwidth = 5\n",
    "        self.create_widgets()\n",
    "        self.canv.bind('<B1-Motion>', self.paint)\n",
    "        self.canv.bind('<ButtonRelease-1>', self.reset)\n",
    "\n",
    "    # drawing\n",
    "    def paint(self,e):\n",
    "        if self.old_x and self.old_y:\n",
    "            self.canv.create_line(self.old_x, self.old_y, e.x ,e.y, width=self.penwidth, fill=self.color_fg, capstyle='round', smooth=True)\n",
    "\n",
    "        self.old_x = e.x\n",
    "        self.old_y = e.y\n",
    "\n",
    "    #reseting x i y coordinate\n",
    "    def reset(self, e): \n",
    "        self.old_x = None\n",
    "        self.old_y = None      \n",
    "\n",
    "    # changing penwidth\n",
    "    def change_width(self, e): \n",
    "        self.penwidth = e\n",
    "\n",
    "    # clearing canvas\n",
    "    def clear(self):\n",
    "        self.canv.delete('all')\n",
    "        \n",
    "        self.results.destroy()\n",
    "        self.probability.destroy()\n",
    "        \n",
    "        self.create_labels()\n",
    "    \n",
    "    def create_labels(self, result = None, prob = None):\n",
    "        \n",
    "        result_text = 'Result: ' + (str(result) if result != None else '')\n",
    "        \n",
    "        # creating label for result\n",
    "        self.results = tk.Frame(self.master, padx = 20, pady = -5)\n",
    "        self.results_text = tk.Label(self.results, text=result_text, font=('arial 12')).grid(row=0,column=0)\n",
    "        self.results.pack(side='top')\n",
    "        \n",
    "        prob_text = 'Probability: ' + ('{:0.2f}'.format(prob) if prob != None else '')\n",
    "        \n",
    "        # creating label for result probability\n",
    "        self.probability = tk.Frame(self.master, padx = 30, pady = 10)\n",
    "        self.probability_text = tk.Label(self.probability, text=prob_text, font=('arial 12')).grid(row=0,column=0)    \n",
    "        self.probability.pack(side='bottom')\n",
    "\n",
    "    # creating all widgets\n",
    "    def create_widgets(self):\n",
    "    \n",
    "        # creating label for penwidth\n",
    "        self.controls = tk.Frame(self.master, padx = 5, pady = 5)\n",
    "        tk.Label(self.controls, text='Pen Width:', font=('arial 18')).grid(row=0,column=0)\n",
    "        \n",
    "        # creating slider for penwidth\n",
    "        self.slider = ttk.Scale(self.controls, from_= 100, to = 5 ,command=self.change_width, orient='vertical')\n",
    "        self.slider.set(self.penwidth)\n",
    "        self.slider.grid(row=0, column=1, ipadx=30)\n",
    "        self.controls.pack(side='left')\n",
    "        \n",
    "        # creating 560*560 canvas for drawing\n",
    "        self.canv = tk.Canvas(self.master, width=560, height=560, bg=self.color_bg)\n",
    "        self.canv.pack()\n",
    "        \n",
    "        # creating reset button for reseting canvas\n",
    "        self.exit_button = tk.Button(self.master, text='EXIT', fg='red', command=self.master.destroy)\n",
    "        self.exit_button.pack(side='left')\n",
    "        \n",
    "        # creating reset button for reseting canvas\n",
    "        self.reset_button = tk.Button(self.master, text='RESET', fg='black', command=self.clear)\n",
    "        self.reset_button.pack(side='left')\n",
    "        \n",
    "        # creating reset button for reseting canvas\n",
    "        self.reset_button = tk.Button(self.master, text=' CHECK \\n RESULTS', fg='black', command=self.check_results)\n",
    "        self.reset_button.pack(side='left')\n",
    "        \n",
    "        self.create_labels()\n",
    "        \n",
    "    def get_image(self):\n",
    "        # getting image from canvas\n",
    "        self.canv.postscript(file='utils/digit.eps', colormode='gray', height=560, width=560)\n",
    "        img = Image.open('utils/digit.eps')\n",
    "        img.save('utils/digit.png', 'png')\n",
    "        \n",
    "        # resizing image as MNIST size\n",
    "        img = Image.open('utils/digit.png')\n",
    "        new_image = img.resize((28, 28))\n",
    "        new_image.save('utils/digit_28.png')\n",
    "        \n",
    "        final_img = Image.open('utils/digit_28.png')\n",
    "        \n",
    "        return np.asarray(final_img)\n",
    "        \n",
    "    def check_results(self):\n",
    "        img = self.get_image() # numpy array image\n",
    "        \n",
    "        print('Here goes image pipeline to pretrained CNN, return resulted number and probability')\n",
    "        \n",
    "        recognized_number = 3 # comming from CNN inference\n",
    "        probability = float(0.98) # comming from CNN inference\n",
    "        \n",
    "        self.results.destroy()\n",
    "        self.probability.destroy()\n",
    "        \n",
    "        self.create_labels(result = recognized_number, prob = probability)\n",
    "        \n",
    "        \n",
    "### checking if it works\n",
    "if __name__ == '__main__':\n",
    "    root = tk.Tk()\n",
    "    root.title('Handwritten Digit Recognizer')\n",
    "    root.geometry('800x650')\n",
    "    HandwrittenDigitRecognizer(master=root)\n",
    "    root.mainloop()\n"
   ]
  },
  {
   "cell_type": "code",
   "execution_count": null,
   "id": "8585770d-7ce9-45ba-bf18-b2c7628e0b92",
   "metadata": {},
   "outputs": [],
   "source": []
  },
  {
   "cell_type": "code",
   "execution_count": null,
   "id": "54a42012-6e2e-42a3-9352-261ba51d7171",
   "metadata": {},
   "outputs": [],
   "source": []
  }
 ],
 "metadata": {
  "kernelspec": {
   "display_name": "Python 3",
   "language": "python",
   "name": "python3"
  },
  "language_info": {
   "codemirror_mode": {
    "name": "ipython",
    "version": 3
   },
   "file_extension": ".py",
   "mimetype": "text/x-python",
   "name": "python",
   "nbconvert_exporter": "python",
   "pygments_lexer": "ipython3",
   "version": "3.7.8"
  }
 },
 "nbformat": 4,
 "nbformat_minor": 5
}
