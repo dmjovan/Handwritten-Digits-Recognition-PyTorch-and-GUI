{
 "cells": [
  {
   "cell_type": "markdown",
   "id": "6165f7b5-b53c-4f10-90da-e7cf8e5a16cb",
   "metadata": {},
   "source": [
    "## Importing necessary libraries"
   ]
  },
  {
   "cell_type": "code",
   "execution_count": 16,
   "id": "bd05d38f-3030-4f5a-a39e-fd1428871892",
   "metadata": {},
   "outputs": [],
   "source": [
    "import matplotlib\n",
    "import matplotlib.pyplot as plt\n",
    "import numpy\n",
    "\n",
    "import torch\n",
    "import torchvision\n",
    "from torchvision import transforms, datasets\n",
    "\n",
    "import tkinter as tk\n",
    "from tkinter import ttk, colorchooser"
   ]
  },
  {
   "cell_type": "markdown",
   "id": "05fa5dbf-7bf1-48a9-a331-d1bc7cdcce6c",
   "metadata": {},
   "source": [
    "## Loading MNIST dataset for hand-drawn digits"
   ]
  },
  {
   "cell_type": "code",
   "execution_count": 20,
   "id": "012c31e1-eb90-40c0-b77d-0b007be01ff6",
   "metadata": {},
   "outputs": [],
   "source": [
    "train = datasets.MNIST('', train=True, download=True,transform=transforms.Compose([transforms.ToTensor()]))\n",
    "train_set = torch.utils.data.DataLoader(train, batch_size=10, shuffle=True)\n",
    "\n",
    "test = datasets.MNIST('', train=False, download=True,transform=transforms.Compose([transforms.ToTensor()]))\n",
    "test_set = torch.utils.data.DataLoader(test, batch_size=10, shuffle=False)"
   ]
  },
  {
   "cell_type": "markdown",
   "id": "d428e598-d146-4920-b4e7-3afafc8a2f76",
   "metadata": {},
   "source": [
    "## Implementation of Handwritten Digit Recognizer app"
   ]
  },
  {
   "cell_type": "code",
   "execution_count": 26,
   "id": "dd0a2d82-085f-40f4-a189-b25d4eed80e5",
   "metadata": {},
   "outputs": [],
   "source": [
    "# application of Handwritten Digit Recognizer\n",
    "class HandwrittenDigitRecognizer:\n",
    "    \n",
    "    # constructor\n",
    "    def __init__(self,master):\n",
    "        self.master = master\n",
    "        self.color_fg = 'black'\n",
    "        self.color_bg = 'white'\n",
    "        self.old_x = None\n",
    "        self.old_y = None\n",
    "        self.penwidth = 5\n",
    "        self.create_widgets()\n",
    "        self.canv.bind('<B1-Motion>', self.paint)\n",
    "        self.canv.bind('<ButtonRelease-1>', self.reset)\n",
    "\n",
    "    # drawing\n",
    "    def paint(self,e):\n",
    "        if self.old_x and self.old_y:\n",
    "            self.canv.create_line(self.old_x, self.old_y, e.x ,e.y, width=self.penwidth, fill=self.color_fg, capstyle=ROUND, smooth=True)\n",
    "\n",
    "        self.old_x = e.x\n",
    "        self.old_y = e.y\n",
    "\n",
    "    #reseting x i y coordinate\n",
    "    def reset(self, e): \n",
    "        self.old_x = None\n",
    "        self.old_y = None      \n",
    "\n",
    "    # changing penwidth\n",
    "    def change_width(self, e): \n",
    "        self.penwidth = e\n",
    "\n",
    "    # clearing canvas\n",
    "    def clear(self):\n",
    "        self.canv.delete(ALL)\n",
    "\n",
    "    # creating all widgets\n",
    "    def create_widgets(self):\n",
    "        # creating label for penwidth\n",
    "        self.controls = tk.Frame(self.master, padx = 5, pady = 5)\n",
    "        tk.Label(self.controls, text='Pen Width:', font=('arial 18')).grid(row=0,column=0)\n",
    "        \n",
    "        # creating slider for penwidth\n",
    "        self.slider = ttk.Scale(self.controls, from_= 100, to = 5 ,command=self.change_width, orient=VERTICAL)\n",
    "        self.slider.set(self.penwidth)\n",
    "        self.slider.grid(row=0, column=1, ipadx=30)\n",
    "        self.controls.pack(side=LEFT)\n",
    "        \n",
    "        # creating 560*560 canvas for drawing\n",
    "        self.canv = tk.Canvas(self.master, width=560, height=560, bg=self.color_bg)\n",
    "        self.canv.pack()\n",
    "        \n",
    "        # creating reset button for reseting canvas\n",
    "        self.exit_button = tk.Button(self.master, text='EXIT', fg='red', command=self.master.destroy)\n",
    "        self.exit_button.pack(side=LEFT)\n",
    "        \n",
    "        # creating reset button for reseting canvas\n",
    "        self.reset_button = tk.Button(self.master, text='RESET', fg='black', command=self.clear)\n",
    "        self.reset_button.pack(side=LEFT)\n",
    "        \n",
    "        # creating reset button for reseting canvas\n",
    "        self.reset_button = tk.Button(self.master, text='CHECK', fg='black', command=self.check)\n",
    "        self.reset_button.pack(side=LEFT)\n",
    "        \n",
    "    def check(self):\n",
    "        print('Get canvas image')\n",
    "        print('Image resize to 28x28')\n",
    "        print('Image pipeline to pretrained CNN')\n",
    "        print('Get results and probability')\n",
    "        \n",
    "### checking if it works\n",
    "if __name__ == '__main__':\n",
    "    root = tk.Tk()\n",
    "    root.title('Handwritten Digit Recognizer')\n",
    "    root.geometry('800x600')\n",
    "    HandwrittenDigitRecognizer(master=root)\n",
    "    root.mainloop()\n"
   ]
  }
 ],
 "metadata": {
  "kernelspec": {
   "display_name": "Python 3",
   "language": "python",
   "name": "python3"
  },
  "language_info": {
   "codemirror_mode": {
    "name": "ipython",
    "version": 3
   },
   "file_extension": ".py",
   "mimetype": "text/x-python",
   "name": "python",
   "nbconvert_exporter": "python",
   "pygments_lexer": "ipython3",
   "version": "3.7.8"
  }
 },
 "nbformat": 4,
 "nbformat_minor": 5
}
